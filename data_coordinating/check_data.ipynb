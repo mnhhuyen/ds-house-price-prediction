{
 "cells": [
  {
   "cell_type": "code",
   "execution_count": 7,
   "metadata": {},
   "outputs": [
    {
     "name": "stdout",
     "output_type": "stream",
     "text": [
      "Modified CSV file saved.\n"
     ]
    },
    {
     "name": "stderr",
     "output_type": "stream",
     "text": [
      "/tmp/ipykernel_1438/530876871.py:6: SettingWithCopyWarning: \n",
      "A value is trying to be set on a copy of a slice from a DataFrame\n",
      "\n",
      "See the caveats in the documentation: https://pandas.pydata.org/pandas-docs/stable/user_guide/indexing.html#returning-a-view-versus-a-copy\n",
      "  filtered_data.drop(filtered_data.columns[0], axis=1, inplace=True)\n"
     ]
    }
   ],
   "source": [
    "import pandas as pd\n",
    "\n",
    "def process_csv_file(input_csv_path, output_csv_path):\n",
    "    data = pd.read_csv(input_csv_path)\n",
    "    filtered_data = data[data['area'] > 0]\n",
    "    filtered_data.drop(filtered_data.columns[0], axis=1, inplace=True)\n",
    "\n",
    "    # Reset the index without adding the old index as a column\n",
    "    filtered_data.reset_index(drop=True, inplace=True)\n",
    "    filtered_data.to_csv(output_csv_path, index=True)\n",
    "\n",
    "input_csv_path = '/home/nmh/ds/project/data_coordinating/data_with_coordination_ver2.csv'\n",
    "output_csv_path = '/home/nmh/ds/project/data_coordinating/data_with_coordination_ver2_validated_area.csv'\n",
    "process_csv_file(input_csv_path, output_csv_path)\n",
    "\n",
    "print(\"Modified CSV file saved.\")\n"
   ]
  },
  {
   "cell_type": "code",
   "execution_count": 1,
   "metadata": {},
   "outputs": [
    {
     "name": "stdout",
     "output_type": "stream",
     "text": [
      "Number of complete rows: 22580\n"
     ]
    }
   ],
   "source": [
    "import pandas as pd\n",
    "\n",
    "def count_complete_rows(csv_file_path):\n",
    "    data = pd.read_csv(csv_file_path)\n",
    "    complete_rows = data.dropna(subset=['latitude','longitude'])\n",
    "    num_complete_rows = len(complete_rows)\n",
    "\n",
    "    return num_complete_rows\n",
    "\n",
    "csv_file_path = '/home/nmh/ds/project/data_ver3_coordinated_filtered_ver1.csv' \n",
    "print(\"Number of complete rows:\", count_complete_rows(csv_file_path))\n"
   ]
  }
 ],
 "metadata": {
  "kernelspec": {
   "display_name": "base",
   "language": "python",
   "name": "python3"
  },
  "language_info": {
   "codemirror_mode": {
    "name": "ipython",
    "version": 3
   },
   "file_extension": ".py",
   "mimetype": "text/x-python",
   "name": "python",
   "nbconvert_exporter": "python",
   "pygments_lexer": "ipython3",
   "version": "3.9.13"
  }
 },
 "nbformat": 4,
 "nbformat_minor": 2
}
