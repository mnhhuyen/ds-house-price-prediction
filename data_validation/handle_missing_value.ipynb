{
 "cells": [
  {
   "cell_type": "code",
   "execution_count": 25,
   "metadata": {},
   "outputs": [],
   "source": [
    "import pandas as pd\n",
    "\n",
    "# Load the dataset\n",
    "file_path = '/home/nmh/ds/project/data_validation/concatenated_data.csv'\n",
    "\n",
    "dtype_dict = {\n",
    "    'bedroom': 'object',\n",
    "    'toilet': 'object',\n",
    "    'floors': 'object',\n",
    "    'facade': 'object',\n",
    "    'entrance': 'object',\n",
    "}\n",
    "\n",
    "df = pd.read_csv(file_path, dtype=dtype_dict, low_memory=False)"
   ]
  },
  {
   "cell_type": "markdown",
   "metadata": {},
   "source": [
    "drop missing with high percentage"
   ]
  },
  {
   "cell_type": "code",
   "execution_count": 26,
   "metadata": {},
   "outputs": [
    {
     "name": "stdout",
     "output_type": "stream",
     "text": [
      "Percentage of Missing Values per Column:\n",
      "new_index           0.000000\n",
      "house_direction    44.820444\n",
      "bedroom            20.313591\n",
      "toilet             25.626821\n",
      "legits              0.000000\n",
      "furniture           0.000000\n",
      "floors             15.395361\n",
      "facade             18.738409\n",
      "entrance           25.378742\n",
      "city                0.000000\n",
      "district           29.581637\n",
      "ward               14.222404\n",
      "street             13.367374\n",
      "area                0.000000\n",
      "price               0.000000\n",
      "dtype: float64\n",
      "\n",
      "Columns to consider dropping (more than 50% missing):\n",
      "[]\n"
     ]
    }
   ],
   "source": [
    "# Calculate the percentage of missing values for each column\n",
    "missing_percentages = df.isnull().mean() * 100\n",
    "\n",
    "print(\"Percentage of Missing Values per Column:\")\n",
    "print(missing_percentages)\n",
    "\n",
    "threshold = 50 \n",
    "columns_to_drop = missing_percentages[missing_percentages > threshold].index.tolist()\n",
    "\n",
    "print(f\"\\nColumns to consider dropping (more than {threshold}% missing):\")\n",
    "print(columns_to_drop)"
   ]
  },
  {
   "cell_type": "markdown",
   "metadata": {},
   "source": [
    "drop missing all address fields"
   ]
  },
  {
   "cell_type": "code",
   "execution_count": 27,
   "metadata": {},
   "outputs": [],
   "source": [
    "def process_csv_file(input_csv_path, output_csv_path):\n",
    "    data = pd.read_csv(input_csv_path)\n",
    "    filtered_data = data[data['area'] > 0]\n",
    "\n",
    "    # Modify filtered_data in place\n",
    "    filtered_data.dropna(subset=['district', 'ward', 'street'], how='all', inplace=True)\n",
    "\n",
    "    # Drop the first column and reset the index\n",
    "    filtered_data.drop(filtered_data.columns[0], axis=1, inplace=True)\n",
    "    filtered_data.reset_index(drop=True, inplace=True)\n",
    "\n",
    "    # Save to new CSV\n",
    "    filtered_data.to_csv(output_csv_path, index=True)\n",
    "\n",
    "input_csv_path = '/home/nmh/ds/project/data_ver3_coordinated (1).csv'\n",
    "output_csv_path = '/home/nmh/ds/project/data_ver3_coordinated.csv'\n",
    "process_csv_file(input_csv_path, output_csv_path)\n",
    "print(\"Modified CSV file saved.\")"
   ]
  },
  {
   "cell_type": "markdown",
   "metadata": {},
   "source": [
    "drop invalid area"
   ]
  },
  {
   "cell_type": "code",
   "execution_count": null,
   "metadata": {},
   "outputs": [],
   "source": [
    "import pandas as pd\n",
    "\n",
    "def process_csv_file(input_csv_path, output_csv_path):\n",
    "    data = pd.read_csv(input_csv_path)\n",
    "    filtered_data = data[data['area'] > 0]\n",
    "    filtered_data.drop(filtered_data.columns[0], axis=1, inplace=True)\n",
    "\n",
    "    # Reset the index without adding the old index as a column\n",
    "    filtered_data.reset_index(drop=True, inplace=True)\n",
    "    filtered_data.to_csv(output_csv_path, index=True)"
   ]
  },
  {
   "cell_type": "markdown",
   "metadata": {},
   "source": [
    "replace None and np.nan as placeholder"
   ]
  },
  {
   "cell_type": "code",
   "execution_count": 28,
   "metadata": {},
   "outputs": [],
   "source": [
    "import numpy as np\n",
    "for col in df.columns:\n",
    "    # if col not in critical_columns:\n",
    "        if df[col].dtype == 'object':  # For categorical data\n",
    "            df[col].fillna('None', inplace=True)\n",
    "        else:\n",
    "            df[col].fillna(np.nan, inplace=True) \n",
    "            # df[col].fillna('None', inplace=True)  "
   ]
  },
  {
   "cell_type": "code",
   "execution_count": 29,
   "metadata": {},
   "outputs": [],
   "source": [
    "df.drop(df.columns[0], axis=1, inplace=True) \n",
    "df.reset_index(drop=True, inplace=True)"
   ]
  },
  {
   "cell_type": "code",
   "execution_count": 30,
   "metadata": {},
   "outputs": [],
   "source": [
    "cleaned_file_path = '/home/nmh/ds/project/data_validation/cleaned_concatenated_data.csv'\n",
    "df.to_csv(cleaned_file_path, index=True)"
   ]
  },
  {
   "cell_type": "code",
   "execution_count": null,
   "metadata": {},
   "outputs": [],
   "source": []
  }
 ],
 "metadata": {
  "kernelspec": {
   "display_name": "base",
   "language": "python",
   "name": "python3"
  },
  "language_info": {
   "codemirror_mode": {
    "name": "ipython",
    "version": 3
   },
   "file_extension": ".py",
   "mimetype": "text/x-python",
   "name": "python",
   "nbconvert_exporter": "python",
   "pygments_lexer": "ipython3",
   "version": "3.9.13"
  }
 },
 "nbformat": 4,
 "nbformat_minor": 2
}
