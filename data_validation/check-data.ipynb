{
 "cells": [
  {
   "cell_type": "code",
   "execution_count": 1,
   "metadata": {},
   "outputs": [
    {
     "name": "stdout",
     "output_type": "stream",
     "text": [
      "Percentage of Missing Values per Column:\n",
      "Unnamed: 0          0.000000\n",
      "house_direction    71.790228\n",
      "bedroom            23.339502\n",
      "toilet             33.162723\n",
      "legits              0.000000\n",
      "furniture           0.000000\n",
      "floors             43.438718\n",
      "facade             48.171188\n",
      "entrance           55.384070\n",
      "city                0.000000\n",
      "district            0.000000\n",
      "ward                2.263869\n",
      "street             17.303831\n",
      "area                0.000000\n",
      "price               0.000000\n",
      "dtype: float64\n"
     ]
    }
   ],
   "source": [
    "import pandas as pd\n",
    "\n",
    "# Load the dataset\n",
    "file_path = '/home/nmh/ds/project/data_validation/cleaned_concatenated_data.csv'\n",
    "\n",
    "dtype_dict = {\n",
    "    'bedroom': 'object',\n",
    "    'toilet': 'object',\n",
    "    'floors': 'object',\n",
    "    'facade': 'object',\n",
    "    'entrance': 'object',\n",
    "}\n",
    "\n",
    "df = pd.read_csv(file_path, dtype=dtype_dict, low_memory=False)\n",
    "missing_percentages = none_percentages = df.apply(lambda col: (col == 'None').mean() * 100)\n",
    "\n",
    "print(\"Percentage of Missing Values per Column:\")\n",
    "print(missing_percentages)"
   ]
  }
 ],
 "metadata": {
  "kernelspec": {
   "display_name": "base",
   "language": "python",
   "name": "python3"
  },
  "language_info": {
   "codemirror_mode": {
    "name": "ipython",
    "version": 3
   },
   "file_extension": ".py",
   "mimetype": "text/x-python",
   "name": "python",
   "nbconvert_exporter": "python",
   "pygments_lexer": "ipython3",
   "version": "3.9.13"
  }
 },
 "nbformat": 4,
 "nbformat_minor": 2
}
